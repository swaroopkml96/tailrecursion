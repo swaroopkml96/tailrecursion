{
 "cells": [
  {
   "cell_type": "markdown",
   "id": "behind-hours",
   "metadata": {},
   "source": [
    "# \"Graph Machine Learning - 1\"\n",
    "> \"My notes and thoughts while I learn graph neural networks\"\n",
    "\n",
    "- toc: true\n",
    "- branch: master\n",
    "- badges: true\n",
    "- comments: true\n",
    "- categories: [machine learning, deep learning, graph ml]\n",
    "- image: \"gnn_resources/1/protein.png\"\n",
    "- hide: false\n",
    "- search_exclude: true\n",
    "- metadata_key1: metadata_value1\n",
    "- metadata_key2: metadata_value2"
   ]
  },
  {
   "cell_type": "markdown",
   "id": "shared-purpose",
   "metadata": {},
   "source": [
    "> These are based on the wonderful Stanford lectures [CS224w](https://web.stanford.edu/class/cs224w/). These will be high-level summaries and will probably include material from other sources. If you'd rather get it from the horse's mouth an older version of the course is freely available [here](https://www.youtube.com/playlist?list=PL-Y8zK4dwCrQyASidb2mjj_itW2-YYx6-)."
   ]
  },
  {
   "cell_type": "markdown",
   "id": "processed-electronics",
   "metadata": {},
   "source": [
    "## Introduction"
   ]
  },
  {
   "cell_type": "markdown",
   "id": "general-rocket",
   "metadata": {},
   "source": [
    "Traditionally, deep learning has looked at data as a cloud of isolated points. Take for example ImageNet, a large dataset of 14 million images of everything from oranges and strawberries to people and street signs (important caveat: although ImageNet has transformed the field, it may be very [biased](https://excavating.ai/)). Each image is its own island with no relation to any other image, apart from the fact that they may contain the same kind of fruit, or the same traffic sign.\n",
    "What if we allow our data points to \"relate\" to each other in interesting ways, and turn a cloud of isolated points into a complex network?"
   ]
  },
  {
   "cell_type": "markdown",
   "id": "careful-reporter",
   "metadata": {},
   "source": [
    "After all, many phenomena in nature can be readily represented as networks. For example, the brain is a complex network of neurons. A cell is a complex network of chemical reactions. Human society is a network of friends and foes."
   ]
  },
  {
   "cell_type": "markdown",
   "id": "vanilla-doctrine",
   "metadata": {},
   "source": [
    "*More formally, a **network** or **graph** is a set of nodes or points with connections between them.*"
   ]
  },
  {
   "cell_type": "markdown",
   "id": "liked-tattoo",
   "metadata": {},
   "source": [
    "## Examples"
   ]
  },
  {
   "cell_type": "markdown",
   "id": "biological-conference",
   "metadata": {},
   "source": [
    "Let's look at a few networks that arise naturally, and which have been a central focus of several scientific fields like economics, science and biology. I hope the importance and beauty of these disciplines will spill over and motivate us to study them from the computer science perspective."
   ]
  },
  {
   "cell_type": "markdown",
   "id": "bibliographic-hypothesis",
   "metadata": {},
   "source": [
    "### Social networks\n"
   ]
  },
  {
   "cell_type": "markdown",
   "id": "tribal-variation",
   "metadata": {},
   "source": [
    "*Here, the nodes are people or organizations and the edges represent some relationship between them*  \n",
    "With the popularity of social networking sites like Facebook, we have huge social networks that closely mirror the actual one we live in. This is a gold-mine for sociologists trying to understand how cultures emerge and the patterns in which we form relationships. These networks have been used in epidemiology to better understand and trace the COVID-19 pandemic."
   ]
  },
  {
   "cell_type": "markdown",
   "id": "distinguished-vaccine",
   "metadata": {},
   "source": [
    "### Citation networks"
   ]
  },
  {
   "cell_type": "markdown",
   "id": "dutch-paint",
   "metadata": {},
   "source": [
    "*Here, the nodes are patents and papers (representing discoveries, inventions, etc) and authors, and the edges indicate who authored or invented an idea.*  \n",
    "If you're interested in how science works and how ideas mutate and spread from one discipline to another, a citation network is a natural thing to explore."
   ]
  },
  {
   "cell_type": "markdown",
   "id": "unlikely-field",
   "metadata": {},
   "source": [
    "### Economic networks"
   ]
  },
  {
   "cell_type": "markdown",
   "id": "liable-composer",
   "metadata": {},
   "source": [
    "*Here, the nodes are people, companies, etc and the edges represent transactions and exchanges*  \n",
    "Recognizing that the economy is a complex system, economists are increasingly trying to model and simulate the economy."
   ]
  },
  {
   "cell_type": "markdown",
   "id": "substantial-carroll",
   "metadata": {},
   "source": [
    "### Biological neural networks"
   ]
  },
  {
   "cell_type": "markdown",
   "id": "exposed-sapphire",
   "metadata": {},
   "source": [
    "*Here, the nodes are neurons and the edges are synaptic connections between them*  \n",
    "The human brain is a complex physical network with more than 86 billion neurons and orders of magnitude more synnapses. Much of neuroscience has focused on the study of the types and functions of individual neurons. However most scholars today agree (with the possible exception of Penrose's Microtubules) that the answers to some of our deepest questions don't lie in some intricate property of neurons, but in the structure of the network as a whole."
   ]
  },
  {
   "cell_type": "markdown",
   "id": "thrown-asthma",
   "metadata": {},
   "source": [
    "### Communication networks"
   ]
  },
  {
   "cell_type": "markdown",
   "id": "speaking-ottawa",
   "metadata": {},
   "source": [
    "*Here, nodes are people and edges represent communication channels among them.*  \n",
    "Communication platforms like twitter have improved the way we communicate. However, as we saw during the pandemic and in [Myanmar](https://www.wired.com/story/how-facebooks-rise-fueled-chaos-and-confusion-in-myanmar/), they can be a platform for disinformation as well. Can we distinguish real and fake information using the structure of these networks? Yes. We'll see a concrete example of this below."
   ]
  },
  {
   "cell_type": "markdown",
   "id": "eastern-vietnamese",
   "metadata": {},
   "source": [
    "### Protein-protein and drug interaction networks"
   ]
  },
  {
   "cell_type": "markdown",
   "id": "standing-graph",
   "metadata": {},
   "source": [
    "*Here, nodes are proteins and/or drugs. and edges are interactions between proteins (roughly, whether two proteins stick together), interactions between drugs (whether a pair of drugs cause side-effects), etc.*  \n"
   ]
  },
  {
   "cell_type": "code",
   "execution_count": null,
   "id": "higher-sacrifice",
   "metadata": {},
   "outputs": [],
   "source": []
  }
 ],
 "metadata": {
  "kernelspec": {
   "display_name": "Python 3",
   "language": "python",
   "name": "python3"
  },
  "language_info": {
   "codemirror_mode": {
    "name": "ipython",
    "version": 3
   },
   "file_extension": ".py",
   "mimetype": "text/x-python",
   "name": "python",
   "nbconvert_exporter": "python",
   "pygments_lexer": "ipython3",
   "version": "3.9.1"
  }
 },
 "nbformat": 4,
 "nbformat_minor": 5
}
