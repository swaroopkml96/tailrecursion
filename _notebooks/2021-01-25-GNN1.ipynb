{
 "cells": [
  {
   "cell_type": "markdown",
   "id": "broken-scientist",
   "metadata": {},
   "source": [
    "# \"Graph Machine Learning - 1\"\n",
    "> \"My notes and thoughts while I learn graph neural networks\"\n",
    "\n",
    "- toc: true\n",
    "- branch: master\n",
    "- badges: true\n",
    "- comments: true\n",
    "- categories: [machine learning, deep learning, graph ml]\n",
    "- image: gnn_resources/1/protein.png\n",
    "- hide: false\n",
    "- search_exclude: true\n",
    "- metadata_key1: metadata_value1\n",
    "- metadata_key2: metadata_value2"
   ]
  },
  {
   "cell_type": "markdown",
   "id": "arabic-boxing",
   "metadata": {},
   "source": [
    "These are based on the wonderful Stanford lectures [CS224w](https://web.stanford.edu/class/cs224w/). These will be high-level summaries and will probably include material from other sources. If you'd rather get it from the horse's mouth an older version of the course is freely available [here](https://www.youtube.com/playlist?list=PL-Y8zK4dwCrQyASidb2mjj_itW2-YYx6-)."
   ]
  },
  {
   "cell_type": "code",
   "execution_count": null,
   "id": "ideal-prime",
   "metadata": {},
   "outputs": [],
   "source": []
  }
 ],
 "metadata": {
  "kernelspec": {
   "display_name": "Python 3",
   "language": "python",
   "name": "python3"
  },
  "language_info": {
   "codemirror_mode": {
    "name": "ipython",
    "version": 3
   },
   "file_extension": ".py",
   "mimetype": "text/x-python",
   "name": "python",
   "nbconvert_exporter": "python",
   "pygments_lexer": "ipython3",
   "version": "3.9.1"
  }
 },
 "nbformat": 4,
 "nbformat_minor": 5
}
