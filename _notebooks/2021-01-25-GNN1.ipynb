{
 "cells": [
  {
   "cell_type": "markdown",
   "id": "regulation-nutrition",
   "metadata": {},
   "source": [
    "# \"Graph Machine Learning - 1\"\n",
    "> \"My notes and thoughts while I learn graph neural networks\"\n",
    "\n",
    "- toc: true\n",
    "- branch: master\n",
    "- badges: true\n",
    "- comments: true\n",
    "- categories: [machine learning, deep learning, graph ml]\n",
    "- image: \"gnn_resources/1/protein.png\"\n",
    "- hide: false\n",
    "- search_exclude: true\n",
    "- metadata_key1: metadata_value1\n",
    "- metadata_key2: metadata_value2"
   ]
  },
  {
   "cell_type": "markdown",
   "id": "brutal-foundation",
   "metadata": {},
   "source": [
    "> These are based on the wonderful Stanford lectures [CS224w](https://web.stanford.edu/class/cs224w/). These will be high-level summaries and will probably include material from other sources. If you'd rather get it from the horse's mouth an older version of the course is freely available [here](https://www.youtube.com/playlist?list=PL-Y8zK4dwCrQyASidb2mjj_itW2-YYx6-)."
   ]
  },
  {
   "cell_type": "markdown",
   "id": "possible-house",
   "metadata": {},
   "source": [
    "## Introduction"
   ]
  },
  {
   "cell_type": "markdown",
   "id": "alone-gasoline",
   "metadata": {},
   "source": [
    "Traditionally, deep learning has looked at data as a cloud of isolated points. Take for example ImageNet, a large dataset of 14 million images of everything from oranges and strawberries to people and street signs (important caveat: although ImageNet has transformed the field, it may be very [biased](https://excavating.ai/)). Each image is its own island with no relation to any other image, apart from the fact that they may contain the same kind of fruit, or the same traffic sign.\n",
    "What if we allow our data points to \"relate\" to each other in interesting ways, and turn a cloud of isolated points into a complex network?"
   ]
  },
  {
   "cell_type": "markdown",
   "id": "arranged-float",
   "metadata": {},
   "source": [
    "![](gnn_resources/1/traditional_vs_graph.png)"
   ]
  },
  {
   "cell_type": "markdown",
   "id": "chief-tissue",
   "metadata": {},
   "source": [
    "After all, many phenomena in nature can be readily represented as networks. For example, the brain is a complex network of neurons. A cell is a complex network of chemical reactions. Human society is a network of friends and foes."
   ]
  },
  {
   "cell_type": "markdown",
   "id": "animated-duration",
   "metadata": {},
   "source": [
    "*More formally, a **network** or **graph** is a set of nodes or points with connections between them.*"
   ]
  },
  {
   "cell_type": "markdown",
   "id": "surprising-allowance",
   "metadata": {},
   "source": [
    "## Examples"
   ]
  },
  {
   "cell_type": "markdown",
   "id": "urban-expert",
   "metadata": {},
   "source": [
    "Let's look at a few networks that arise naturally, and which have been a central focus of several scientific fields like economics, science and biology. I hope the importance and beauty of these disciplines will spill over and motivate us to study them from the computer science perspective."
   ]
  },
  {
   "cell_type": "markdown",
   "id": "weighted-friendship",
   "metadata": {},
   "source": [
    "### Social networks\n"
   ]
  },
  {
   "cell_type": "markdown",
   "id": "continuing-thanks",
   "metadata": {},
   "source": [
    "*Here, the nodes are people or organizations and the edges represent some relationship between them*  \n",
    "With the popularity of social networking sites like Facebook, we have huge social networks that closely mirror the actual one we live in. This is a gold-mine for sociologists trying to understand how cultures emerge and the patterns in which we form relationships. These networks have been used in epidemiology to better understand and trace the COVID-19 pandemic."
   ]
  },
  {
   "cell_type": "markdown",
   "id": "beautiful-vacuum",
   "metadata": {},
   "source": [
    "![](https://paulbutler.org/posts/2010/visualizing-facebook-friends/facebook_map.png)  \n",
    "A visualization of facebook's social network by Paul Butler. See [this post](https://paulbutler.org/2010/visualizing-facebook-friends/) for more details on how it was generated."
   ]
  },
  {
   "cell_type": "markdown",
   "id": "civic-panel",
   "metadata": {},
   "source": [
    "### Citation networks"
   ]
  },
  {
   "cell_type": "markdown",
   "id": "thrown-scroll",
   "metadata": {},
   "source": [
    "*Here, the nodes are patents and papers (representing discoveries, inventions, etc) and authors, and the edges indicate who authored or invented an idea.*  \n",
    "If you're interested in how science works and how ideas mutate and spread from one discipline to another, a citation network is a natural thing to explore."
   ]
  },
  {
   "cell_type": "markdown",
   "id": "sticky-bracket",
   "metadata": {},
   "source": [
    "![](https://i1.wp.com/scottbot.net/wp-content/uploads/2013/06/citation_network1.png?resize=768%2C702&ssl=1)  \n",
    "Visualization of a citation network by [Neal Caren](https://nealcaren.org/#about)"
   ]
  },
  {
   "cell_type": "markdown",
   "id": "tracked-herald",
   "metadata": {},
   "source": [
    "### Economic networks"
   ]
  },
  {
   "cell_type": "markdown",
   "id": "saved-luther",
   "metadata": {},
   "source": [
    "*Here, the nodes are people, companies, etc and the edges represent transactions and exchanges*  \n",
    "Recognizing that the economy is a complex system, economists are increasingly trying to model and simulate the economy."
   ]
  },
  {
   "cell_type": "markdown",
   "id": "intense-publicity",
   "metadata": {},
   "source": [
    "![](https://upload.wikimedia.org/wikipedia/commons/b/b9/TheProductSpace.png)  \n",
    "Product Space, representing the proximity between products traded in the global market."
   ]
  },
  {
   "cell_type": "markdown",
   "id": "rational-perfume",
   "metadata": {},
   "source": [
    "### Biological neural networks"
   ]
  },
  {
   "cell_type": "markdown",
   "id": "valuable-correlation",
   "metadata": {},
   "source": [
    "*Here, the nodes are neurons and the edges are synaptic connections between them*  \n",
    "The human brain is a complex physical network with more than 86 billion neurons and orders of magnitude more synnapses. Much of neuroscience has focused on the study of the types and functions of individual neurons. However most scholars today agree (with the possible exception of Penrose's Microtubules) that the answers to some of our deepest questions don't lie in some intricate property of neurons, but in the structure of the network as a whole."
   ]
  },
  {
   "cell_type": "markdown",
   "id": "excess-forge",
   "metadata": {},
   "source": [
    "![](https://i.pinimg.com/originals/fd/41/81/fd4181d3dbd322707548d93931bb23a3.jpg)  \n",
    "Drawings of the nervous systen, by [Santiago Ramón y Cajal](https://en.wikipedia.org/wiki/Santiago_Ram%C3%B3n_y_Cajal)"
   ]
  },
  {
   "cell_type": "markdown",
   "id": "looking-cambodia",
   "metadata": {},
   "source": [
    "### Communication networks"
   ]
  },
  {
   "cell_type": "markdown",
   "id": "partial-planner",
   "metadata": {},
   "source": [
    "*Here, nodes are people and edges represent communication channels among them.*  \n",
    "Communication platforms like twitter have improved the way we communicate. However, as we saw during the pandemic and in [Myanmar](https://www.wired.com/story/how-facebooks-rise-fueled-chaos-and-confusion-in-myanmar/), they can be a platform for disinformation as well. Can we distinguish real and fake information using the structure of these networks? Yes. We'll see a concrete example of this below."
   ]
  },
  {
   "cell_type": "markdown",
   "id": "registered-history",
   "metadata": {},
   "source": [
    "![](gnn_resources/1/disinformation.jpg)  \n",
    "A visualization of online conversation surrounding the COVID-19 pandemic [(full report here)](https://public-assets.graphika.com/reports/Graphika_Report_Covid19_Infodemic.pdf)."
   ]
  },
  {
   "cell_type": "markdown",
   "id": "automotive-smoke",
   "metadata": {},
   "source": [
    "### Protein-protein and drug interaction networks"
   ]
  },
  {
   "cell_type": "markdown",
   "id": "serial-drain",
   "metadata": {},
   "source": [
    "*Here, nodes are proteins and/or drugs. and edges are interactions between proteins (roughly, whether two proteins stick together), interactions between drugs (whether a pair of drugs cause side-effects), etc.*  \n",
    "Proteins perform all biological functions in a cell, from metabolism to defending against pathogens. While some proteins act individually, most interact with others for proper biological activity. Researchers use expensive equipment and time-consuming processes to determine if two proteins interact. Can we use known interactions to predict unknown ones? More specifically and somewhat tangentially, we'll see an example where a known protein-protein interaction network and a drug interaction network has been used to predict side-effects of drug combinations."
   ]
  },
  {
   "cell_type": "markdown",
   "id": "dedicated-tobacco",
   "metadata": {},
   "source": [
    "![](gnn_resources/1/decagon.png)  \n",
    "Part of the protein-protein and drug-drug interaction network used in [Decagon](http://snap.stanford.edu/decagon/)"
   ]
  },
  {
   "cell_type": "markdown",
   "id": "german-tokyo",
   "metadata": {},
   "source": [
    "### Molecules"
   ]
  },
  {
   "cell_type": "markdown",
   "id": "duplicate-opera",
   "metadata": {},
   "source": [
    "*Here, the nodes are individual amino acids or clusters of them, and edges represent their spatial relationships*  \n",
    "Proteins are long chains of amino acids which quickly fold up into complex structures. Specifically, it is this spatial structure that gives a protein its unique function. A central problem in computational biology is the prediction of 3D structures of proteins from their 2D specification. Solving this problem may unlock cures for Alzheimers and other diseases. "
   ]
  },
  {
   "cell_type": "markdown",
   "id": "finite-nashville",
   "metadata": {},
   "source": [
    "![](https://upload.wikimedia.org/wikipedia/commons/thumb/6/60/Myoglobin.png/593px-Myoglobin.png)  \n",
    "Representation of 3D structure of the protein [myoglobin](https://en.wikipedia.org/wiki/Myoglobin)"
   ]
  },
  {
   "cell_type": "markdown",
   "id": "precise-latin",
   "metadata": {},
   "source": [
    "In all these cases, we need to model the phenomena to understand them. In graph ML in particular, we are concerned with predictive models. That is, we seek not to describe these networks but to make predictions about individual nodes, edges, clusters of nodes or the network as a whole. In other words, our models will usually be black boxes, but will allow us to solve some real-world prolems."
   ]
  },
  {
   "cell_type": "markdown",
   "id": "white-greene",
   "metadata": {},
   "source": [
    "In some cases, the network doesn't arise naturally, or it's not obvious how to model these as graphs. For example,  \n",
    "1. **Event graphs**. Here, nodes are events, for example, the landing of a plane or failure in a factory process.\n",
    "2. **Knowledge graphs**. A knowledge graph is all the knowledge we have about a domain. If the domain is art history, for example, nodes will be artists and pieces of art.\n",
    "3. **Scene graph**. To understand a visual scene, we use information about how different objects in the image relate to each other."
   ]
  },
  {
   "cell_type": "markdown",
   "id": "specific-preservation",
   "metadata": {},
   "source": [
    "## Why should we care"
   ]
  },
  {
   "cell_type": "markdown",
   "id": "blond-minister",
   "metadata": {},
   "source": [
    "If you're not convinced that we should care about these fields, this may just tip the scales for you:  \n",
    "1. Networks are a universal language to represent complex systems. Disparate fields such as biology, the social sceinces and engineering, have problems or phenomena that can be formulated as networks.\n",
    "2. Graph ML is an interdisciplinary field, arguable more than tradiional deep learning, where people from computer science, physics, economics, sociology, and biology are working together.\n",
    "3. Like computer vision, we finally have large amounts of data available.\n",
    "4. Graph ML is finding industry-transforming applications, from recommendation engines behind facebook and google to more intelligent search engines."
   ]
  },
  {
   "cell_type": "markdown",
   "id": "international-kernel",
   "metadata": {},
   "source": [
    "## Types of problems and some concrete examples"
   ]
  },
  {
   "cell_type": "markdown",
   "id": "religious-secret",
   "metadata": {},
   "source": [
    "Broadly, 5 types of problems can be solved using grah ML. Let's explore each of these in turn while looking at a particular real-life instance."
   ]
  },
  {
   "cell_type": "markdown",
   "id": "failing-noise",
   "metadata": {},
   "source": [
    "### 1. Graph classification"
   ]
  },
  {
   "cell_type": "markdown",
   "id": "mental-metadata",
   "metadata": {},
   "source": [
    "Given a graph or a small subgraph of a larger graph as input, the goal is to classify the graph into a fixed set of categories.  \n",
    "In [\"Political Polarization on Twitter\"](https://www.researchgate.net/publication/221297916_Political_Polarization_on_Twitter), M. D. Conover et al. looked at more than 250,000 re-tweets leading up to the 2010 US elections. They were able to prove something we know intuitively: \"... politically motivated individuals provoke inter-action by injecting partisan content into information streams whose primary audience consists of ideologically-opposed users.\" (colloquially, *trolling*). They compared two networks with high (left) and low (right) polarization. This raises the question: Can a graph ML-based model automatically classify polarizing and non-polarizing networks?"
   ]
  },
  {
   "cell_type": "markdown",
   "id": "declared-active",
   "metadata": {},
   "source": [
    "![](gnn_resources/1/polarization.png)"
   ]
  },
  {
   "cell_type": "markdown",
   "id": "equipped-reflection",
   "metadata": {},
   "source": [
    "### 2. Node classification"
   ]
  },
  {
   "cell_type": "markdown",
   "id": "twenty-congress",
   "metadata": {},
   "source": [
    "Given a graph, the goal here is to put each or some nodes of the graph into a fixed set of categories.  \n",
    "In [\"Disinformation on the Web: Impact, Characteristics, and Detection of Wikipedia Hoaxes\"](https://www.cs.stanford.edu/~srijan/pubs/hoax-www16.pdf), Srijan Kumar et al. used traditional machine learning algorithms to classify whether a given WikiPedia article is a hoax. Surprisingly, the model did significantly better than humans. They observed that a graph representing other articles that link to and are linked from a given article, shows different patterns for hoax and real articles. Can graph ML be used to classify articles in this way?"
   ]
  },
  {
   "cell_type": "markdown",
   "id": "short-jewelry",
   "metadata": {},
   "source": [
    "### 3. Link prediction"
   ]
  },
  {
   "cell_type": "markdown",
   "id": "reflected-visibility",
   "metadata": {},
   "source": [
    "Given an incomplete graph where we only know some of the edges, the goal is to predict whether a given pair of nodes should be connected.  \n",
    "In [\"Modeling Polypharmacy Side Effects with Graph Convolutional Networks\"](https://cs.stanford.edu/~jure/pubs/drugcomb-ismb18.pdf), Marinka Zitnik et al. used two networks, a protein-protein interaction network, and a drug-interaction network, together with known information about which drugs target which proteins, and performed link prediction. They predicted the unknown side-effects of pairs of drugs. Of their top 10 predictions, 5 have been verified clinically."
   ]
  },
  {
   "cell_type": "markdown",
   "id": "naval-locator",
   "metadata": {},
   "source": [
    "### 4. Node clustering"
   ]
  },
  {
   "cell_type": "markdown",
   "id": "agricultural-behavior",
   "metadata": {},
   "source": [
    "Given a complex network, the goal here is to partition the graph into subgraphs which have certain properties.  \n",
    "In [\"Discovering Social Circles in Ego Networks\"](https://cs.stanford.edu/people/jure/pubs/circles-tkdd14.pdf), Julian Mcauley and Jure Leskovec used methods in node clustering to automatically detect social circles (friends, colleague, family, etc.) in social networks. Social networking sites today ask users to manually tag each friend with the correct circle."
   ]
  },
  {
   "cell_type": "markdown",
   "id": "forward-pilot",
   "metadata": {},
   "source": [
    "### 5. Node similarity "
   ]
  },
  {
   "cell_type": "markdown",
   "id": "beneficial-eight",
   "metadata": {},
   "source": [
    "Given a graph, the goal is compute the similarity of a pair of nodes. This usually involves mapping each node into a lower-dimensional embedding space and computing the distance between them.  \n",
    "In Pinterest and other similar applications, the task is to recommend a user new images based on her profile and images she's liked in the past. Specifically in Pinterest, images are grouped into boards, with one image potentially belonging to multiple boards, and one board containing multiple images. In [Graph Convolutional Neural Networks for Web-Scale Recommender Systems](https://arxiv.org/pdf/1806.01973.pdf), Rex Ying et al. used the graph containing images and boards, to train a graph neural network based recommendation engine. When a user adds an image, the model maps the node corresponding to it into a lower-dimensional embedding space and searches for similar nodes (close in the space)."
   ]
  },
  {
   "cell_type": "markdown",
   "id": "collective-relative",
   "metadata": {},
   "source": [
    "## Conclusion"
   ]
  },
  {
   "cell_type": "markdown",
   "id": "clinical-appointment",
   "metadata": {},
   "source": [
    "Graph machine learning has given us a new way to formulate problems. It is attempting to model various phenomena in other scientific disciplines and solving real-world problems as well. If you enjoyed this blog, please leave your feedback below. I'll attempt to put into words everything I learn in the course [(CS224w)](https://web.stanford.edu/class/cs224w/) and beyond. You can stay updated by subscribing to the RSS feed below."
   ]
  },
  {
   "cell_type": "code",
   "execution_count": null,
   "id": "written-marker",
   "metadata": {},
   "outputs": [],
   "source": []
  }
 ],
 "metadata": {
  "kernelspec": {
   "display_name": "Python 3",
   "language": "python",
   "name": "python3"
  },
  "language_info": {
   "codemirror_mode": {
    "name": "ipython",
    "version": 3
   },
   "file_extension": ".py",
   "mimetype": "text/x-python",
   "name": "python",
   "nbconvert_exporter": "python",
   "pygments_lexer": "ipython3",
   "version": "3.9.1"
  }
 },
 "nbformat": 4,
 "nbformat_minor": 5
}
